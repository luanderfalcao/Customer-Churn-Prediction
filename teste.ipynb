{
 "cells": [
  {
   "cell_type": "code",
   "execution_count": null,
   "metadata": {},
   "outputs": [],
   "source": []
  },
  {
   "cell_type": "markdown",
   "metadata": {},
   "source": [
    "**Teste Negrito** <p>\n",
    "*Teste Negrito*\n",
    "~Teste Negrito~\n",
    "Teste Negrito\n",
    "\n",
    "# Título\n",
    "## Título\n",
    "### Título\n",
    "#### Título\n",
    "\n",
    "***\n",
    "---\n",
    "\n",
    "1. Teste\n",
    "2. teste\n",
    "\n",
    "* teste\n",
    "* teste\n",
    "    * teste\n",
    "* teste\n",
    "\n",
    "**lista de tarefas:**\n",
    "- [X] Criar página\n",
    "- [ ] Criar loja\n",
    "- [ ] Criar loja\n",
    "- [ ] Criar loja\n",
    "\n",
    "\n",
    "Num | nome | nota\n",
    "---|---|---\n",
    "1|Gustavo|8,5\n",
    "2|José|10,0\n",
    "3|Pedro|9,4"
   ]
  }
 ],
 "metadata": {
  "language_info": {
   "name": "python"
  }
 },
 "nbformat": 4,
 "nbformat_minor": 2
}
